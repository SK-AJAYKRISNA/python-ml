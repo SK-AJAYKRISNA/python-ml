{
 "cells": [
  {
   "cell_type": "code",
   "execution_count": 8,
   "id": "dde4a97b",
   "metadata": {},
   "outputs": [],
   "source": [
    "import numpy as np\n",
    "import pandas as pd\n",
    "import matplotlib.pyplot as plt\n",
    "import seaborn as sns\n",
    "from sklearn.model_selection import train_test_split\n",
    "from sklearn.ensemble import RandomForestRegressor\n",
    "from sklearn import metrics"
   ]
  },
  {
   "cell_type": "code",
   "execution_count": 9,
   "id": "00adc7c9",
   "metadata": {},
   "outputs": [
    {
     "data": {
      "text/html": [
       "<div>\n",
       "<style scoped>\n",
       "    .dataframe tbody tr th:only-of-type {\n",
       "        vertical-align: middle;\n",
       "    }\n",
       "\n",
       "    .dataframe tbody tr th {\n",
       "        vertical-align: top;\n",
       "    }\n",
       "\n",
       "    .dataframe thead th {\n",
       "        text-align: right;\n",
       "    }\n",
       "</style>\n",
       "<table border=\"1\" class=\"dataframe\">\n",
       "  <thead>\n",
       "    <tr style=\"text-align: right;\">\n",
       "      <th></th>\n",
       "      <th>Date</th>\n",
       "      <th>SPX</th>\n",
       "      <th>GLD</th>\n",
       "      <th>USO</th>\n",
       "      <th>SLV</th>\n",
       "      <th>EUR/USD</th>\n",
       "    </tr>\n",
       "  </thead>\n",
       "  <tbody>\n",
       "    <tr>\n",
       "      <th>0</th>\n",
       "      <td>1/2/2008</td>\n",
       "      <td>1447.160034</td>\n",
       "      <td>84.860001</td>\n",
       "      <td>78.470001</td>\n",
       "      <td>15.180</td>\n",
       "      <td>1.471692</td>\n",
       "    </tr>\n",
       "    <tr>\n",
       "      <th>1</th>\n",
       "      <td>1/3/2008</td>\n",
       "      <td>1447.160034</td>\n",
       "      <td>85.570000</td>\n",
       "      <td>78.370003</td>\n",
       "      <td>15.285</td>\n",
       "      <td>1.474491</td>\n",
       "    </tr>\n",
       "    <tr>\n",
       "      <th>2</th>\n",
       "      <td>1/4/2008</td>\n",
       "      <td>1411.630005</td>\n",
       "      <td>85.129997</td>\n",
       "      <td>77.309998</td>\n",
       "      <td>15.167</td>\n",
       "      <td>1.475492</td>\n",
       "    </tr>\n",
       "    <tr>\n",
       "      <th>3</th>\n",
       "      <td>1/7/2008</td>\n",
       "      <td>1416.180054</td>\n",
       "      <td>84.769997</td>\n",
       "      <td>75.500000</td>\n",
       "      <td>15.053</td>\n",
       "      <td>1.468299</td>\n",
       "    </tr>\n",
       "    <tr>\n",
       "      <th>4</th>\n",
       "      <td>1/8/2008</td>\n",
       "      <td>1390.189941</td>\n",
       "      <td>86.779999</td>\n",
       "      <td>76.059998</td>\n",
       "      <td>15.590</td>\n",
       "      <td>1.557099</td>\n",
       "    </tr>\n",
       "  </tbody>\n",
       "</table>\n",
       "</div>"
      ],
      "text/plain": [
       "       Date          SPX        GLD        USO     SLV   EUR/USD\n",
       "0  1/2/2008  1447.160034  84.860001  78.470001  15.180  1.471692\n",
       "1  1/3/2008  1447.160034  85.570000  78.370003  15.285  1.474491\n",
       "2  1/4/2008  1411.630005  85.129997  77.309998  15.167  1.475492\n",
       "3  1/7/2008  1416.180054  84.769997  75.500000  15.053  1.468299\n",
       "4  1/8/2008  1390.189941  86.779999  76.059998  15.590  1.557099"
      ]
     },
     "execution_count": 9,
     "metadata": {},
     "output_type": "execute_result"
    }
   ],
   "source": [
    "gold_data = pd.read_csv(\"/Users/ajaykrisna/Desktop/goldprice.csv\")\n",
    "gold_data.head()\n"
   ]
  },
  {
   "cell_type": "code",
   "execution_count": 10,
   "id": "2bcf6f6b",
   "metadata": {},
   "outputs": [
    {
     "data": {
      "text/html": [
       "<div>\n",
       "<style scoped>\n",
       "    .dataframe tbody tr th:only-of-type {\n",
       "        vertical-align: middle;\n",
       "    }\n",
       "\n",
       "    .dataframe tbody tr th {\n",
       "        vertical-align: top;\n",
       "    }\n",
       "\n",
       "    .dataframe thead th {\n",
       "        text-align: right;\n",
       "    }\n",
       "</style>\n",
       "<table border=\"1\" class=\"dataframe\">\n",
       "  <thead>\n",
       "    <tr style=\"text-align: right;\">\n",
       "      <th></th>\n",
       "      <th>Date</th>\n",
       "      <th>SPX</th>\n",
       "      <th>GLD</th>\n",
       "      <th>USO</th>\n",
       "      <th>SLV</th>\n",
       "      <th>EUR/USD</th>\n",
       "    </tr>\n",
       "  </thead>\n",
       "  <tbody>\n",
       "    <tr>\n",
       "      <th>2285</th>\n",
       "      <td>5/8/2018</td>\n",
       "      <td>2671.919922</td>\n",
       "      <td>124.589996</td>\n",
       "      <td>14.0600</td>\n",
       "      <td>15.5100</td>\n",
       "      <td>1.186789</td>\n",
       "    </tr>\n",
       "    <tr>\n",
       "      <th>2286</th>\n",
       "      <td>5/9/2018</td>\n",
       "      <td>2697.790039</td>\n",
       "      <td>124.330002</td>\n",
       "      <td>14.3700</td>\n",
       "      <td>15.5300</td>\n",
       "      <td>1.184722</td>\n",
       "    </tr>\n",
       "    <tr>\n",
       "      <th>2287</th>\n",
       "      <td>5/10/2018</td>\n",
       "      <td>2723.070068</td>\n",
       "      <td>125.180000</td>\n",
       "      <td>14.4100</td>\n",
       "      <td>15.7400</td>\n",
       "      <td>1.191753</td>\n",
       "    </tr>\n",
       "    <tr>\n",
       "      <th>2288</th>\n",
       "      <td>5/14/2018</td>\n",
       "      <td>2730.129883</td>\n",
       "      <td>124.489998</td>\n",
       "      <td>14.3800</td>\n",
       "      <td>15.5600</td>\n",
       "      <td>1.193118</td>\n",
       "    </tr>\n",
       "    <tr>\n",
       "      <th>2289</th>\n",
       "      <td>5/16/2018</td>\n",
       "      <td>2725.780029</td>\n",
       "      <td>122.543800</td>\n",
       "      <td>14.4058</td>\n",
       "      <td>15.4542</td>\n",
       "      <td>1.182033</td>\n",
       "    </tr>\n",
       "  </tbody>\n",
       "</table>\n",
       "</div>"
      ],
      "text/plain": [
       "           Date          SPX         GLD      USO      SLV   EUR/USD\n",
       "2285   5/8/2018  2671.919922  124.589996  14.0600  15.5100  1.186789\n",
       "2286   5/9/2018  2697.790039  124.330002  14.3700  15.5300  1.184722\n",
       "2287  5/10/2018  2723.070068  125.180000  14.4100  15.7400  1.191753\n",
       "2288  5/14/2018  2730.129883  124.489998  14.3800  15.5600  1.193118\n",
       "2289  5/16/2018  2725.780029  122.543800  14.4058  15.4542  1.182033"
      ]
     },
     "execution_count": 10,
     "metadata": {},
     "output_type": "execute_result"
    }
   ],
   "source": [
    "gold_data.tail()"
   ]
  },
  {
   "cell_type": "code",
   "execution_count": 11,
   "id": "5a3bd078",
   "metadata": {},
   "outputs": [
    {
     "data": {
      "text/plain": [
       "(2290, 6)"
      ]
     },
     "execution_count": 11,
     "metadata": {},
     "output_type": "execute_result"
    }
   ],
   "source": [
    "gold_data.shape"
   ]
  },
  {
   "cell_type": "code",
   "execution_count": 12,
   "id": "9b756421",
   "metadata": {},
   "outputs": [
    {
     "name": "stdout",
     "output_type": "stream",
     "text": [
      "<class 'pandas.core.frame.DataFrame'>\n",
      "RangeIndex: 2290 entries, 0 to 2289\n",
      "Data columns (total 6 columns):\n",
      " #   Column   Non-Null Count  Dtype  \n",
      "---  ------   --------------  -----  \n",
      " 0   Date     2290 non-null   object \n",
      " 1   SPX      2290 non-null   float64\n",
      " 2   GLD      2290 non-null   float64\n",
      " 3   USO      2290 non-null   float64\n",
      " 4   SLV      2290 non-null   float64\n",
      " 5   EUR/USD  2290 non-null   float64\n",
      "dtypes: float64(5), object(1)\n",
      "memory usage: 107.5+ KB\n"
     ]
    }
   ],
   "source": [
    "gold_data.info()"
   ]
  },
  {
   "cell_type": "code",
   "execution_count": 13,
   "id": "ff40216a",
   "metadata": {},
   "outputs": [
    {
     "data": {
      "text/html": [
       "<div>\n",
       "<style scoped>\n",
       "    .dataframe tbody tr th:only-of-type {\n",
       "        vertical-align: middle;\n",
       "    }\n",
       "\n",
       "    .dataframe tbody tr th {\n",
       "        vertical-align: top;\n",
       "    }\n",
       "\n",
       "    .dataframe thead th {\n",
       "        text-align: right;\n",
       "    }\n",
       "</style>\n",
       "<table border=\"1\" class=\"dataframe\">\n",
       "  <thead>\n",
       "    <tr style=\"text-align: right;\">\n",
       "      <th></th>\n",
       "      <th>SPX</th>\n",
       "      <th>GLD</th>\n",
       "      <th>USO</th>\n",
       "      <th>SLV</th>\n",
       "      <th>EUR/USD</th>\n",
       "    </tr>\n",
       "  </thead>\n",
       "  <tbody>\n",
       "    <tr>\n",
       "      <th>count</th>\n",
       "      <td>2290.000000</td>\n",
       "      <td>2290.000000</td>\n",
       "      <td>2290.000000</td>\n",
       "      <td>2290.000000</td>\n",
       "      <td>2290.000000</td>\n",
       "    </tr>\n",
       "    <tr>\n",
       "      <th>mean</th>\n",
       "      <td>1654.315776</td>\n",
       "      <td>122.732875</td>\n",
       "      <td>31.842221</td>\n",
       "      <td>20.084997</td>\n",
       "      <td>1.283653</td>\n",
       "    </tr>\n",
       "    <tr>\n",
       "      <th>std</th>\n",
       "      <td>519.111540</td>\n",
       "      <td>23.283346</td>\n",
       "      <td>19.523517</td>\n",
       "      <td>7.092566</td>\n",
       "      <td>0.131547</td>\n",
       "    </tr>\n",
       "    <tr>\n",
       "      <th>min</th>\n",
       "      <td>676.530029</td>\n",
       "      <td>70.000000</td>\n",
       "      <td>7.960000</td>\n",
       "      <td>8.850000</td>\n",
       "      <td>1.039047</td>\n",
       "    </tr>\n",
       "    <tr>\n",
       "      <th>25%</th>\n",
       "      <td>1239.874969</td>\n",
       "      <td>109.725000</td>\n",
       "      <td>14.380000</td>\n",
       "      <td>15.570000</td>\n",
       "      <td>1.171313</td>\n",
       "    </tr>\n",
       "    <tr>\n",
       "      <th>50%</th>\n",
       "      <td>1551.434998</td>\n",
       "      <td>120.580002</td>\n",
       "      <td>33.869999</td>\n",
       "      <td>17.268500</td>\n",
       "      <td>1.303297</td>\n",
       "    </tr>\n",
       "    <tr>\n",
       "      <th>75%</th>\n",
       "      <td>2073.010070</td>\n",
       "      <td>132.840004</td>\n",
       "      <td>37.827501</td>\n",
       "      <td>22.882500</td>\n",
       "      <td>1.369971</td>\n",
       "    </tr>\n",
       "    <tr>\n",
       "      <th>max</th>\n",
       "      <td>2872.870117</td>\n",
       "      <td>184.589996</td>\n",
       "      <td>117.480003</td>\n",
       "      <td>47.259998</td>\n",
       "      <td>1.598798</td>\n",
       "    </tr>\n",
       "  </tbody>\n",
       "</table>\n",
       "</div>"
      ],
      "text/plain": [
       "               SPX          GLD          USO          SLV      EUR/USD\n",
       "count  2290.000000  2290.000000  2290.000000  2290.000000  2290.000000\n",
       "mean   1654.315776   122.732875    31.842221    20.084997     1.283653\n",
       "std     519.111540    23.283346    19.523517     7.092566     0.131547\n",
       "min     676.530029    70.000000     7.960000     8.850000     1.039047\n",
       "25%    1239.874969   109.725000    14.380000    15.570000     1.171313\n",
       "50%    1551.434998   120.580002    33.869999    17.268500     1.303297\n",
       "75%    2073.010070   132.840004    37.827501    22.882500     1.369971\n",
       "max    2872.870117   184.589996   117.480003    47.259998     1.598798"
      ]
     },
     "execution_count": 13,
     "metadata": {},
     "output_type": "execute_result"
    }
   ],
   "source": [
    "gold_data.describe()"
   ]
  },
  {
   "cell_type": "code",
   "execution_count": 14,
   "id": "fddc2b88",
   "metadata": {},
   "outputs": [
    {
     "data": {
      "text/plain": [
       "<AxesSubplot:>"
      ]
     },
     "execution_count": 14,
     "metadata": {},
     "output_type": "execute_result"
    },
    {
     "data": {
      "image/png": "[encoded data removed]",
      "text/plain": [
       "<Figure size 720x720 with 2 Axes>"
      ]
     },
     "metadata": {
      "needs_background": "light"
     },
     "output_type": "display_data"
    }
   ],
   "source": [
    "correlation = gold_data.corr()\n",
    "plt.figure(figsize =(10,10))\n",
    "sns.heatmap(correlation, cbar=True, square=True, fmt ='.1f', annot=True, annot_kws={'size':10}, cmap='Reds')"
   ]
  },
  {
   "cell_type": "code",
   "execution_count": 15,
   "id": "c2512b09",
   "metadata": {},
   "outputs": [
    {
     "name": "stdout",
     "output_type": "stream",
     "text": [
      "SPX        0.049345\n",
      "GLD        1.000000\n",
      "USO       -0.186360\n",
      "SLV        0.866632\n",
      "EUR/USD   -0.024375\n",
      "Name: GLD, dtype: float64\n"
     ]
    }
   ],
   "source": [
    "print(correlation['GLD'])"
   ]
  },
  {
   "cell_type": "code",
   "execution_count": 16,
   "id": "ee63909f",
   "metadata": {},
   "outputs": [
    {
     "data": {
      "text/plain": [
       "<AxesSubplot:xlabel='GLD', ylabel='Count'>"
      ]
     },
     "execution_count": 16,
     "metadata": {},
     "output_type": "execute_result"
    },
    {
     "data": {
      "image/png": "[encoded data removed]",
      "text/plain": [
       "<Figure size 432x288 with 1 Axes>"
      ]
     },
     "metadata": {
      "needs_background": "light"
     },
     "output_type": "display_data"
    }
   ],
   "source": [
    "sns.histplot(gold_data['GLD'])"
   ]
  },
  {
   "cell_type": "code",
   "execution_count": 17,
   "id": "621ed407",
   "metadata": {},
   "outputs": [
    {
     "name": "stdout",
     "output_type": "stream",
     "text": [
      "              SPX        USO      SLV   EUR/USD\n",
      "0     1447.160034  78.470001  15.1800  1.471692\n",
      "1     1447.160034  78.370003  15.2850  1.474491\n",
      "2     1411.630005  77.309998  15.1670  1.475492\n",
      "3     1416.180054  75.500000  15.0530  1.468299\n",
      "4     1390.189941  76.059998  15.5900  1.557099\n",
      "...           ...        ...      ...       ...\n",
      "2285  2671.919922  14.060000  15.5100  1.186789\n",
      "2286  2697.790039  14.370000  15.5300  1.184722\n",
      "2287  2723.070068  14.410000  15.7400  1.191753\n",
      "2288  2730.129883  14.380000  15.5600  1.193118\n",
      "2289  2725.780029  14.405800  15.4542  1.182033\n",
      "\n",
      "[2290 rows x 4 columns]\n",
      "0        84.860001\n",
      "1        85.570000\n",
      "2        85.129997\n",
      "3        84.769997\n",
      "4        86.779999\n",
      "           ...    \n",
      "2285    124.589996\n",
      "2286    124.330002\n",
      "2287    125.180000\n",
      "2288    124.489998\n",
      "2289    122.543800\n",
      "Name: GLD, Length: 2290, dtype: float64\n"
     ]
    }
   ],
   "source": [
    "X = gold_data.drop(['Date','GLD'], axis=1)\n",
    "Y = gold_data['GLD']\n",
    "print(X)\n",
    "print(Y)"
   ]
  },
  {
   "cell_type": "code",
   "execution_count": 18,
   "id": "f226ce88",
   "metadata": {},
   "outputs": [],
   "source": [
    "X_train, X_test, Y_train , Y_test = train_test_split(X, Y, test_size=0.2, random_state=0)"
   ]
  },
  {
   "cell_type": "code",
   "execution_count": 19,
   "id": "c026d2da",
   "metadata": {},
   "outputs": [
    {
     "data": {
      "text/plain": [
       "RandomForestRegressor()"
      ]
     },
     "execution_count": 19,
     "metadata": {},
     "output_type": "execute_result"
    }
   ],
   "source": [
    "regressor = RandomForestRegressor(n_estimators=100)\n",
    "regressor.fit(X_train,Y_train)\n"
   ]
  },
  {
   "cell_type": "code",
   "execution_count": 20,
   "id": "4f53a211",
   "metadata": {},
   "outputs": [
    {
     "name": "stdout",
     "output_type": "stream",
     "text": [
      "[168.46479937  81.90109979 115.7404001  127.63320067 120.62560132\n",
      " 154.80039777 150.05959923 126.0926006  117.53449876 126.32310013\n",
      " 116.843801   170.3751007  141.42069888 167.41169801 115.24200004\n",
      " 117.71740056 139.1618033  170.35730154 159.43390399 160.32309988\n",
      " 155.1650004  125.40390047 175.63549999 157.7082033  125.29860034\n",
      "  93.98160003  77.45239996 120.48690033 119.15209944 167.55549985\n",
      "  88.20110038 125.33970042  91.00080086 117.61300017 121.07389929\n",
      " 136.46550082 115.3771011  115.18840076 146.2632997  107.12070077\n",
      " 104.60020262  87.17209807 126.39190059 118.0830002  153.03389846\n",
      " 119.60069994 108.4966997  108.20389813  93.21470049 127.01169794\n",
      "  74.83080068 113.58619917 121.22680021 111.22909879 118.87249894\n",
      " 120.69849951 158.93180001 167.81720153 147.05689696  85.85779831\n",
      "  94.20780027  86.83029871  90.64639998 119.0160006  126.39330068\n",
      " 127.60369957 171.09420043 122.22439967 117.30159878  98.70160062\n",
      " 167.90780066 143.24529882 132.03730211 121.1382021  121.3379995\n",
      " 119.72350066 114.61270168 118.48060047 107.11220092 127.92400114\n",
      " 113.8738     107.58860034 117.02100064 119.60339874  88.90000013\n",
      "  88.30339859 147.09500214 127.11520017 113.45100035 109.92529821\n",
      " 108.23249913  77.55179894 169.42480145 114.05339926 121.57519913\n",
      " 127.77630161 154.89689865  91.83119949 135.88130171 159.14080301\n",
      " 124.96080053 125.44090052 130.72750188 114.94260146 119.8669002\n",
      "  92.08159965 109.97229869 169.81269941 157.99959856 114.35049977\n",
      " 106.6589013   79.66729977 113.2991007  125.79770068 107.23529906\n",
      " 119.56870082 156.00230304 159.46319983 120.32879968 135.47960291\n",
      " 101.63359987 117.51629791 119.29760034 112.95230085 102.75749879\n",
      " 159.58419787  98.60410019 148.84429908 125.64430098 169.30269931\n",
      " 125.77349899 127.37259727 127.3208012  113.59469955 113.32880086\n",
      " 123.63239879 102.26199928  89.12549997 124.2439995  101.19979949\n",
      " 106.96479936 113.94500036 117.50700051  98.92899955 121.87010046\n",
      " 162.49079826  87.38629859 106.60800016 117.4701007  127.71600096\n",
      " 124.11160049  80.58899926 120.28760085 156.5706989   88.03629961\n",
      " 110.23409938 118.78739918 171.41379934 103.05059916 106.05020036\n",
      " 122.61050049 156.56739853  87.38419847  93.23280037 112.9386001\n",
      " 177.50109976 114.55079959 119.26340039  94.80340092 125.54079963\n",
      " 165.77950144 114.80820058 116.90190147  88.32319867 148.97360121\n",
      " 120.41809939  89.58779961 112.11369999 117.04240057 118.81320124\n",
      "  87.9461994   94.25179998 116.80970042 118.54070204 120.12250036\n",
      " 126.87429794 121.98239943 149.81749999 164.51450029 118.77999962\n",
      " 120.30510165 150.31440048 118.35619894 172.20089909 106.1436993\n",
      " 104.94390091 149.51290128 114.01790069 124.7984014  147.14509996\n",
      " 119.52740101 115.53870046 112.69230016 113.48680226 142.14200139\n",
      " 118.00769735 102.93860036 115.74290133 103.89530165  98.70980056\n",
      " 117.34340084  90.60559996  91.77890037 153.3728991  102.69999968\n",
      " 154.56100045 114.3375018  139.00620151  90.18769828 115.48729918\n",
      " 114.60869934 122.89179983 121.82630019 165.27170106  92.95949966\n",
      " 135.37020134 121.32679925 120.73890081 104.63569995 142.95980293\n",
      " 121.68449934 116.74500032 113.59510102 127.1139975  122.52439957\n",
      " 125.73729956 121.24360043  86.92629943 132.72290122 144.30910249\n",
      "  92.67319932 157.88369972 159.32440237 126.2913989  164.83389966\n",
      " 108.8193993  109.83110055 103.62199812  94.33150089 127.94710319\n",
      " 106.82910053 160.35209958 121.8098005  132.0933002  130.4632018\n",
      " 160.37939982  90.05379838 175.77540155 127.45210137 126.86449838\n",
      "  86.20889923 124.3867989  150.23369773  89.73989996 106.72349988\n",
      " 109.08579978  83.80789896 135.88879934 155.07560271 138.58690369\n",
      "  73.91210032 152.47160062 126.53799978 126.77510002 127.43489914\n",
      " 108.64169946 156.53980076 114.6702011  116.91720156 125.13309951\n",
      " 154.09680169 121.44109986 156.45349801  93.04080074 125.51480121\n",
      " 125.93000089  87.93390046  92.12749926 126.46709901 128.52170428\n",
      " 113.11540042 117.60909764 120.94550011 127.15649755 119.41510128\n",
      " 136.1624002   94.02969955 119.8216003  113.01750104  94.44609944\n",
      " 108.74000017  86.80049913 109.37409907  89.62040003  92.40080041\n",
      " 131.70430269 162.49700135  89.19590045 119.50310069 133.46040174\n",
      " 123.80470001 128.40770178 101.89799846  88.93459866 131.77820085\n",
      " 119.89550033 108.53289999 167.21850088 115.20380047  86.58549878\n",
      " 118.88080061  91.27149967 162.1177007  116.62750029 121.64659974\n",
      " 159.96889811 120.05019937 112.73129956 108.55009874 126.7569994\n",
      "  75.60560049 102.99069971 127.80570293 121.92999874  92.67800042\n",
      " 131.47730026 118.17640155 115.62369971 154.57300254 159.43580096\n",
      " 110.16869938 156.41949767 119.29090085 160.62670079 118.32530062\n",
      " 158.34509881 115.20589903 116.18010012 149.61329913 114.75350048\n",
      " 125.85129882 166.42239959 117.83210017 124.99929941 153.05030317\n",
      " 153.32940256 132.14270028 114.90710026 121.20630197 125.02840104\n",
      "  89.5840007  122.99010031 155.15470243 111.77230049 106.6171001\n",
      " 161.34790075 118.43979974 165.54389994 134.2100008  114.91559927\n",
      " 153.0829991  168.44570008 114.48290019 114.23470128 157.44409869\n",
      "  85.27139859 127.01840132 128.05780045 128.8909996  124.06980085\n",
      " 124.12770074  90.6165005  153.32049982  97.03809987 137.28809987\n",
      "  89.23939914 107.5573002  114.93790001 112.93400101 124.60119936\n",
      "  91.35549898 125.51170136 162.16549872 119.91749886 164.9152015\n",
      " 126.79479808 112.33250018 127.49399918  95.01899906  90.99399993\n",
      " 103.16629913 120.83159999  83.1646994  126.29559938 160.25080468\n",
      " 117.30530103 118.15799968 119.81870036 122.7179999  120.0934014\n",
      " 121.48999983 118.07130054 106.85640012 148.43809991 126.00219887\n",
      " 115.84940099  73.8379999  127.87990122 154.4286013  122.07650024\n",
      " 125.56920007  88.73550014 104.13909868 124.79460028 120.16960035\n",
      "  73.29800088 151.60710036 121.08670032 104.66429987  86.54789763\n",
      " 115.12829909 172.22619829 120.00170064 160.87639739 113.16419936\n",
      " 121.09390053 118.59140102  96.01659985 118.84480021 126.01220073\n",
      " 118.42789972  95.75310049 153.83640161 122.00420006 147.54639978\n",
      " 159.42790199 114.03669994 122.50959926 148.97139776 127.38170057\n",
      " 165.76980046 135.37700031 119.98369971 167.2828987  108.56029924\n",
      " 121.84059839 138.89540132 106.1472991 ]\n"
     ]
    }
   ],
   "source": [
    "testdataprediction = regressor.predict(X_test)\n",
    "print(testdataprediction)"
   ]
  },
  {
   "cell_type": "code",
   "execution_count": 23,
   "id": "0763d3b2",
   "metadata": {},
   "outputs": [
    {
     "name": "stdout",
     "output_type": "stream",
     "text": [
      "The R squared error is 0.9892879849743222\n"
     ]
    }
   ],
   "source": [
    "errorscore = metrics.r2_score(Y_test,testdataprediction)\n",
    "print(\"The R squared error is\", errorscore)"
   ]
  },
  {
   "cell_type": "code",
   "execution_count": 22,
   "id": "872f6ce1",
   "metadata": {},
   "outputs": [
    {
     "data": {
      "image/png": "[encoded data removed]",
      "text/plain": [
       "<Figure size 432x288 with 1 Axes>"
      ]
     },
     "metadata": {
      "needs_background": "light"
     },
     "output_type": "display_data"
    }
   ],
   "source": [
    "Y_test = list(Y_test)\n",
    "plt.plot(testdataprediction, color='yellow' , label='actual value')\n",
    "plt.plot(testdataprediction, color='black', label='predicted value')\n",
    "plt.title('Actual price vs predicted price')\n",
    "plt.xlabel('Number of values')\n",
    "plt.ylabel('Gold price')\n",
    "plt.legend()\n",
    "plt.show()"
   ]
  },
  {
   "cell_type": "code",
   "execution_count": null,
   "id": "ff98a911",
   "metadata": {},
   "outputs": [],
   "source": []
  }
 ],
 "metadata": {
  "kernelspec": {
   "display_name": "Python 3 (ipykernel)",
   "language": "python",
   "name": "python3"
  },
  "language_info": {
   "codemirror_mode": {
    "name": "ipython",
    "version": 3
   },
   "file_extension": ".py",
   "mimetype": "text/x-python",
   "name": "python",
   "nbconvert_exporter": "python",
   "pygments_lexer": "ipython3",
   "version": "3.9.12"
  }
 },
 "nbformat": 4,
 "nbformat_minor": 5
}
