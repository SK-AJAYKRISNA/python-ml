{
 "cells": [
  {
   "cell_type": "code",
   "execution_count": 2,
   "id": "da31ecc0",
   "metadata": {},
   "outputs": [
    {
     "data": {
      "text/html": [
       "<div>\n",
       "<style scoped>\n",
       "    .dataframe tbody tr th:only-of-type {\n",
       "        vertical-align: middle;\n",
       "    }\n",
       "\n",
       "    .dataframe tbody tr th {\n",
       "        vertical-align: top;\n",
       "    }\n",
       "\n",
       "    .dataframe thead th {\n",
       "        text-align: right;\n",
       "    }\n",
       "</style>\n",
       "<table border=\"1\" class=\"dataframe\">\n",
       "  <thead>\n",
       "    <tr style=\"text-align: right;\">\n",
       "      <th></th>\n",
       "      <th>price</th>\n",
       "      <th>area</th>\n",
       "      <th>status</th>\n",
       "      <th>bhk</th>\n",
       "      <th>bathroom</th>\n",
       "      <th>age</th>\n",
       "      <th>location</th>\n",
       "      <th>builder</th>\n",
       "    </tr>\n",
       "  </thead>\n",
       "  <tbody>\n",
       "    <tr>\n",
       "      <th>0</th>\n",
       "      <td>37.49</td>\n",
       "      <td>872</td>\n",
       "      <td>Ready to move</td>\n",
       "      <td>2</td>\n",
       "      <td>NaN</td>\n",
       "      <td>1.0</td>\n",
       "      <td>Sembakkam</td>\n",
       "      <td>MP Developers</td>\n",
       "    </tr>\n",
       "    <tr>\n",
       "      <th>1</th>\n",
       "      <td>93.54</td>\n",
       "      <td>1346</td>\n",
       "      <td>Under Construction</td>\n",
       "      <td>3</td>\n",
       "      <td>2.0</td>\n",
       "      <td>NaN</td>\n",
       "      <td>Selaiyur</td>\n",
       "      <td>DAC Promoters</td>\n",
       "    </tr>\n",
       "    <tr>\n",
       "      <th>2</th>\n",
       "      <td>151.00</td>\n",
       "      <td>2225</td>\n",
       "      <td>Under Construction</td>\n",
       "      <td>3</td>\n",
       "      <td>NaN</td>\n",
       "      <td>0.0</td>\n",
       "      <td>Mogappair</td>\n",
       "      <td>Casagrand Builder Private Limited</td>\n",
       "    </tr>\n",
       "    <tr>\n",
       "      <th>3</th>\n",
       "      <td>49.00</td>\n",
       "      <td>1028</td>\n",
       "      <td>Ready to move</td>\n",
       "      <td>2</td>\n",
       "      <td>2.0</td>\n",
       "      <td>3.0</td>\n",
       "      <td>Ambattur</td>\n",
       "      <td>Dugar Housing Builders</td>\n",
       "    </tr>\n",
       "    <tr>\n",
       "      <th>4</th>\n",
       "      <td>42.28</td>\n",
       "      <td>588</td>\n",
       "      <td>Under Construction</td>\n",
       "      <td>2</td>\n",
       "      <td>1.0</td>\n",
       "      <td>0.0</td>\n",
       "      <td>Pallavaram</td>\n",
       "      <td>Radiance Realty Developers India Ltd</td>\n",
       "    </tr>\n",
       "  </tbody>\n",
       "</table>\n",
       "</div>"
      ],
      "text/plain": [
       "    price  area              status  bhk  bathroom  age    location  \\\n",
       "0   37.49   872       Ready to move    2       NaN  1.0   Sembakkam   \n",
       "1   93.54  1346  Under Construction    3       2.0  NaN    Selaiyur   \n",
       "2  151.00  2225  Under Construction    3       NaN  0.0   Mogappair   \n",
       "3   49.00  1028       Ready to move    2       2.0  3.0    Ambattur   \n",
       "4   42.28   588  Under Construction    2       1.0  0.0  Pallavaram   \n",
       "\n",
       "                                builder  \n",
       "0                         MP Developers  \n",
       "1                         DAC Promoters  \n",
       "2     Casagrand Builder Private Limited  \n",
       "3                Dugar Housing Builders  \n",
       "4  Radiance Realty Developers India Ltd  "
      ]
     },
     "execution_count": 2,
     "metadata": {},
     "output_type": "execute_result"
    }
   ],
   "source": [
    "import pandas as pd\n",
    "import numpy as np\n",
    "import matplotlib.pyplot as plt\n",
    "from sklearn import linear_model\n",
    "df = pd.read_csv(\"/Users/ajaykrisna/Desktop/madrashousedata.csv\")\n",
    "df.head()\n",
    "\n"
   ]
  },
  {
   "cell_type": "code",
   "execution_count": 3,
   "id": "dc99f1fe",
   "metadata": {},
   "outputs": [
    {
     "data": {
      "text/html": [
       "<div>\n",
       "<style scoped>\n",
       "    .dataframe tbody tr th:only-of-type {\n",
       "        vertical-align: middle;\n",
       "    }\n",
       "\n",
       "    .dataframe tbody tr th {\n",
       "        vertical-align: top;\n",
       "    }\n",
       "\n",
       "    .dataframe thead th {\n",
       "        text-align: right;\n",
       "    }\n",
       "</style>\n",
       "<table border=\"1\" class=\"dataframe\">\n",
       "  <thead>\n",
       "    <tr style=\"text-align: right;\">\n",
       "      <th></th>\n",
       "      <th>price</th>\n",
       "      <th>area</th>\n",
       "      <th>status</th>\n",
       "      <th>bhk</th>\n",
       "      <th>bathroom</th>\n",
       "      <th>age</th>\n",
       "      <th>location</th>\n",
       "      <th>builder</th>\n",
       "    </tr>\n",
       "  </thead>\n",
       "  <tbody>\n",
       "    <tr>\n",
       "      <th>2615</th>\n",
       "      <td>27.5</td>\n",
       "      <td>750</td>\n",
       "      <td>Ready to move</td>\n",
       "      <td>2</td>\n",
       "      <td>2.0</td>\n",
       "      <td>3.0</td>\n",
       "      <td>Veppampattu</td>\n",
       "      <td>Velan Housing Properties</td>\n",
       "    </tr>\n",
       "    <tr>\n",
       "      <th>2616</th>\n",
       "      <td>27.5</td>\n",
       "      <td>750</td>\n",
       "      <td>Ready to move</td>\n",
       "      <td>2</td>\n",
       "      <td>2.0</td>\n",
       "      <td>3.0</td>\n",
       "      <td>Veppampattu</td>\n",
       "      <td>Velan Housing Properties</td>\n",
       "    </tr>\n",
       "    <tr>\n",
       "      <th>2617</th>\n",
       "      <td>30.0</td>\n",
       "      <td>800</td>\n",
       "      <td>Ready to move</td>\n",
       "      <td>2</td>\n",
       "      <td>2.0</td>\n",
       "      <td>3.0</td>\n",
       "      <td>Veppampattu</td>\n",
       "      <td>Velan Housing Properties</td>\n",
       "    </tr>\n",
       "    <tr>\n",
       "      <th>2618</th>\n",
       "      <td>31.5</td>\n",
       "      <td>850</td>\n",
       "      <td>Ready to move</td>\n",
       "      <td>2</td>\n",
       "      <td>2.0</td>\n",
       "      <td>3.0</td>\n",
       "      <td>Veppampattu</td>\n",
       "      <td>Velan Housing Properties</td>\n",
       "    </tr>\n",
       "    <tr>\n",
       "      <th>2619</th>\n",
       "      <td>34.0</td>\n",
       "      <td>900</td>\n",
       "      <td>Ready to move</td>\n",
       "      <td>2</td>\n",
       "      <td>2.0</td>\n",
       "      <td>3.0</td>\n",
       "      <td>Veppampattu</td>\n",
       "      <td>Velan Housing Properties</td>\n",
       "    </tr>\n",
       "  </tbody>\n",
       "</table>\n",
       "</div>"
      ],
      "text/plain": [
       "      price  area         status  bhk  bathroom  age     location  \\\n",
       "2615   27.5   750  Ready to move    2       2.0  3.0  Veppampattu   \n",
       "2616   27.5   750  Ready to move    2       2.0  3.0  Veppampattu   \n",
       "2617   30.0   800  Ready to move    2       2.0  3.0  Veppampattu   \n",
       "2618   31.5   850  Ready to move    2       2.0  3.0  Veppampattu   \n",
       "2619   34.0   900  Ready to move    2       2.0  3.0  Veppampattu   \n",
       "\n",
       "                       builder  \n",
       "2615  Velan Housing Properties  \n",
       "2616  Velan Housing Properties  \n",
       "2617  Velan Housing Properties  \n",
       "2618  Velan Housing Properties  \n",
       "2619  Velan Housing Properties  "
      ]
     },
     "execution_count": 3,
     "metadata": {},
     "output_type": "execute_result"
    }
   ],
   "source": [
    "df.tail()"
   ]
  },
  {
   "cell_type": "code",
   "execution_count": 4,
   "id": "c42549f1",
   "metadata": {},
   "outputs": [
    {
     "data": {
      "text/plain": [
       "(2620, 8)"
      ]
     },
     "execution_count": 4,
     "metadata": {},
     "output_type": "execute_result"
    }
   ],
   "source": [
    "df.shape"
   ]
  },
  {
   "cell_type": "code",
   "execution_count": 5,
   "id": "97ec3584",
   "metadata": {},
   "outputs": [
    {
     "name": "stdout",
     "output_type": "stream",
     "text": [
      "2\n",
      "0\n",
      "2\n"
     ]
    }
   ],
   "source": [
    "import math\n",
    "medianbhk = math.floor(df.bhk.median())\n",
    "print(medianbhk)\n",
    "medianage= math.floor(df.age.median())\n",
    "print(medianage)\n",
    "medianbathroom= math.floor(df.bathroom.median())\n",
    "print(medianbathroom)"
   ]
  },
  {
   "cell_type": "code",
   "execution_count": 6,
   "id": "0500ef40",
   "metadata": {},
   "outputs": [
    {
     "data": {
      "text/html": [
       "<div>\n",
       "<style scoped>\n",
       "    .dataframe tbody tr th:only-of-type {\n",
       "        vertical-align: middle;\n",
       "    }\n",
       "\n",
       "    .dataframe tbody tr th {\n",
       "        vertical-align: top;\n",
       "    }\n",
       "\n",
       "    .dataframe thead th {\n",
       "        text-align: right;\n",
       "    }\n",
       "</style>\n",
       "<table border=\"1\" class=\"dataframe\">\n",
       "  <thead>\n",
       "    <tr style=\"text-align: right;\">\n",
       "      <th></th>\n",
       "      <th>price</th>\n",
       "      <th>area</th>\n",
       "      <th>status</th>\n",
       "      <th>bhk</th>\n",
       "      <th>bathroom</th>\n",
       "      <th>age</th>\n",
       "      <th>location</th>\n",
       "      <th>builder</th>\n",
       "    </tr>\n",
       "  </thead>\n",
       "  <tbody>\n",
       "    <tr>\n",
       "      <th>0</th>\n",
       "      <td>37.49</td>\n",
       "      <td>872</td>\n",
       "      <td>Ready to move</td>\n",
       "      <td>2</td>\n",
       "      <td>2.0</td>\n",
       "      <td>1.0</td>\n",
       "      <td>Sembakkam</td>\n",
       "      <td>MP Developers</td>\n",
       "    </tr>\n",
       "    <tr>\n",
       "      <th>1</th>\n",
       "      <td>93.54</td>\n",
       "      <td>1346</td>\n",
       "      <td>Under Construction</td>\n",
       "      <td>3</td>\n",
       "      <td>2.0</td>\n",
       "      <td>0.0</td>\n",
       "      <td>Selaiyur</td>\n",
       "      <td>DAC Promoters</td>\n",
       "    </tr>\n",
       "    <tr>\n",
       "      <th>2</th>\n",
       "      <td>151.00</td>\n",
       "      <td>2225</td>\n",
       "      <td>Under Construction</td>\n",
       "      <td>3</td>\n",
       "      <td>2.0</td>\n",
       "      <td>0.0</td>\n",
       "      <td>Mogappair</td>\n",
       "      <td>Casagrand Builder Private Limited</td>\n",
       "    </tr>\n",
       "    <tr>\n",
       "      <th>3</th>\n",
       "      <td>49.00</td>\n",
       "      <td>1028</td>\n",
       "      <td>Ready to move</td>\n",
       "      <td>2</td>\n",
       "      <td>2.0</td>\n",
       "      <td>3.0</td>\n",
       "      <td>Ambattur</td>\n",
       "      <td>Dugar Housing Builders</td>\n",
       "    </tr>\n",
       "    <tr>\n",
       "      <th>4</th>\n",
       "      <td>42.28</td>\n",
       "      <td>588</td>\n",
       "      <td>Under Construction</td>\n",
       "      <td>2</td>\n",
       "      <td>1.0</td>\n",
       "      <td>0.0</td>\n",
       "      <td>Pallavaram</td>\n",
       "      <td>Radiance Realty Developers India Ltd</td>\n",
       "    </tr>\n",
       "    <tr>\n",
       "      <th>...</th>\n",
       "      <td>...</td>\n",
       "      <td>...</td>\n",
       "      <td>...</td>\n",
       "      <td>...</td>\n",
       "      <td>...</td>\n",
       "      <td>...</td>\n",
       "      <td>...</td>\n",
       "      <td>...</td>\n",
       "    </tr>\n",
       "    <tr>\n",
       "      <th>2615</th>\n",
       "      <td>27.50</td>\n",
       "      <td>750</td>\n",
       "      <td>Ready to move</td>\n",
       "      <td>2</td>\n",
       "      <td>2.0</td>\n",
       "      <td>3.0</td>\n",
       "      <td>Veppampattu</td>\n",
       "      <td>Velan Housing Properties</td>\n",
       "    </tr>\n",
       "    <tr>\n",
       "      <th>2616</th>\n",
       "      <td>27.50</td>\n",
       "      <td>750</td>\n",
       "      <td>Ready to move</td>\n",
       "      <td>2</td>\n",
       "      <td>2.0</td>\n",
       "      <td>3.0</td>\n",
       "      <td>Veppampattu</td>\n",
       "      <td>Velan Housing Properties</td>\n",
       "    </tr>\n",
       "    <tr>\n",
       "      <th>2617</th>\n",
       "      <td>30.00</td>\n",
       "      <td>800</td>\n",
       "      <td>Ready to move</td>\n",
       "      <td>2</td>\n",
       "      <td>2.0</td>\n",
       "      <td>3.0</td>\n",
       "      <td>Veppampattu</td>\n",
       "      <td>Velan Housing Properties</td>\n",
       "    </tr>\n",
       "    <tr>\n",
       "      <th>2618</th>\n",
       "      <td>31.50</td>\n",
       "      <td>850</td>\n",
       "      <td>Ready to move</td>\n",
       "      <td>2</td>\n",
       "      <td>2.0</td>\n",
       "      <td>3.0</td>\n",
       "      <td>Veppampattu</td>\n",
       "      <td>Velan Housing Properties</td>\n",
       "    </tr>\n",
       "    <tr>\n",
       "      <th>2619</th>\n",
       "      <td>34.00</td>\n",
       "      <td>900</td>\n",
       "      <td>Ready to move</td>\n",
       "      <td>2</td>\n",
       "      <td>2.0</td>\n",
       "      <td>3.0</td>\n",
       "      <td>Veppampattu</td>\n",
       "      <td>Velan Housing Properties</td>\n",
       "    </tr>\n",
       "  </tbody>\n",
       "</table>\n",
       "<p>2620 rows × 8 columns</p>\n",
       "</div>"
      ],
      "text/plain": [
       "       price  area              status  bhk  bathroom  age     location  \\\n",
       "0      37.49   872       Ready to move    2       2.0  1.0    Sembakkam   \n",
       "1      93.54  1346  Under Construction    3       2.0  0.0     Selaiyur   \n",
       "2     151.00  2225  Under Construction    3       2.0  0.0    Mogappair   \n",
       "3      49.00  1028       Ready to move    2       2.0  3.0     Ambattur   \n",
       "4      42.28   588  Under Construction    2       1.0  0.0   Pallavaram   \n",
       "...      ...   ...                 ...  ...       ...  ...          ...   \n",
       "2615   27.50   750       Ready to move    2       2.0  3.0  Veppampattu   \n",
       "2616   27.50   750       Ready to move    2       2.0  3.0  Veppampattu   \n",
       "2617   30.00   800       Ready to move    2       2.0  3.0  Veppampattu   \n",
       "2618   31.50   850       Ready to move    2       2.0  3.0  Veppampattu   \n",
       "2619   34.00   900       Ready to move    2       2.0  3.0  Veppampattu   \n",
       "\n",
       "                                   builder  \n",
       "0                            MP Developers  \n",
       "1                            DAC Promoters  \n",
       "2        Casagrand Builder Private Limited  \n",
       "3                   Dugar Housing Builders  \n",
       "4     Radiance Realty Developers India Ltd  \n",
       "...                                    ...  \n",
       "2615              Velan Housing Properties  \n",
       "2616              Velan Housing Properties  \n",
       "2617              Velan Housing Properties  \n",
       "2618              Velan Housing Properties  \n",
       "2619              Velan Housing Properties  \n",
       "\n",
       "[2620 rows x 8 columns]"
      ]
     },
     "execution_count": 6,
     "metadata": {},
     "output_type": "execute_result"
    }
   ],
   "source": [
    "df.bhk= df.bhk.fillna(medianbhk)\n",
    "df.age= df.age.fillna(medianage)\n",
    "df.bathroom= df.bathroom.fillna(medianbathroom)\n",
    "df\n"
   ]
  },
  {
   "cell_type": "code",
   "execution_count": 7,
   "id": "f3fa8810",
   "metadata": {},
   "outputs": [
    {
     "data": {
      "text/plain": [
       "LinearRegression()"
      ]
     },
     "execution_count": 7,
     "metadata": {},
     "output_type": "execute_result"
    }
   ],
   "source": [
    "reg = linear_model.LinearRegression()\n",
    "reg.fit(df[['bhk','age','area']],df.price)"
   ]
  },
  {
   "cell_type": "code",
   "execution_count": 8,
   "id": "b99c7988",
   "metadata": {},
   "outputs": [
    {
     "data": {
      "text/plain": [
       "array([-10.84430384,  -1.0199176 ,   0.14510799])"
      ]
     },
     "execution_count": 8,
     "metadata": {},
     "output_type": "execute_result"
    }
   ],
   "source": [
    "reg.coef_"
   ]
  },
  {
   "cell_type": "code",
   "execution_count": 9,
   "id": "47f68d85",
   "metadata": {},
   "outputs": [
    {
     "data": {
      "text/plain": [
       "-64.91360139825777"
      ]
     },
     "execution_count": 9,
     "metadata": {},
     "output_type": "execute_result"
    }
   ],
   "source": [
    "reg.intercept_\n"
   ]
  },
  {
   "cell_type": "code",
   "execution_count": 10,
   "id": "53d7b848",
   "metadata": {},
   "outputs": [
    {
     "name": "stdout",
     "output_type": "stream",
     "text": [
      "enter the bhk:2\n",
      "enter the age:3\n",
      "enter the area:1028\n",
      "The predicted price of the house is: [59.50904791]\n"
     ]
    },
    {
     "name": "stderr",
     "output_type": "stream",
     "text": [
      "/Users/ajaykrisna/opt/anaconda3/lib/python3.9/site-packages/sklearn/base.py:450: UserWarning: X does not have valid feature names, but LinearRegression was fitted with feature names\n",
      "  warnings.warn(\n",
      "/Users/ajaykrisna/opt/anaconda3/lib/python3.9/site-packages/sklearn/base.py:566: FutureWarning: Arrays of bytes/strings is being converted to decimal numbers if dtype='numeric'. This behavior is deprecated in 0.24 and will be removed in 1.1 (renaming of 0.26). Please convert your data to numeric values explicitly instead.\n",
      "  X = check_array(X, **check_params)\n"
     ]
    }
   ],
   "source": [
    "x = input(\"enter the bhk:\")\n",
    "y = input(\"enter the age:\")\n",
    "z = input(\"enter the area:\")\n",
    "print(\"The predicted price of the house in is:\",reg.predict([[x,y,z]]))\n",
    "\n"
   ]
  },
  {
   "cell_type": "code",
   "execution_count": null,
   "id": "46075538",
   "metadata": {},
   "outputs": [],
   "source": []
  }
 ],
 "metadata": {
  "kernelspec": {
   "display_name": "Python 3 (ipykernel)",
   "language": "python",
   "name": "python3"
  },
  "language_info": {
   "codemirror_mode": {
    "name": "ipython",
    "version": 3
   },
   "file_extension": ".py",
   "mimetype": "text/x-python",
   "name": "python",
   "nbconvert_exporter": "python",
   "pygments_lexer": "ipython3",
   "version": "3.9.12"
  }
 },
 "nbformat": 4,
 "nbformat_minor": 5
}
